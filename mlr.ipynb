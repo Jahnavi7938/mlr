{
 "cells": [
  {
   "cell_type": "code",
   "execution_count": 1,
   "id": "aea606d7",
   "metadata": {},
   "outputs": [
    {
     "name": "stdout",
     "output_type": "stream",
     "text": [
      "      Id  SepalLengthCm  SepalWidthCm  PetalLengthCm  PetalWidthCm  \\\n",
      "0      1            5.1           3.5            1.4           0.2   \n",
      "1      2            4.9           3.0            1.4           0.2   \n",
      "2      3            4.7           3.2            1.3           0.2   \n",
      "3      4            4.6           3.1            1.5           0.2   \n",
      "4      5            5.0           3.6            1.4           0.2   \n",
      "..   ...            ...           ...            ...           ...   \n",
      "145  146            6.7           3.0            5.2           2.3   \n",
      "146  147            6.3           2.5            5.0           1.9   \n",
      "147  148            6.5           3.0            5.2           2.0   \n",
      "148  149            6.2           3.4            5.4           2.3   \n",
      "149  150            5.9           3.0            5.1           1.8   \n",
      "\n",
      "            Species  \n",
      "0       Iris-setosa  \n",
      "1       Iris-setosa  \n",
      "2       Iris-setosa  \n",
      "3       Iris-setosa  \n",
      "4       Iris-setosa  \n",
      "..              ...  \n",
      "145  Iris-virginica  \n",
      "146  Iris-virginica  \n",
      "147  Iris-virginica  \n",
      "148  Iris-virginica  \n",
      "149  Iris-virginica  \n",
      "\n",
      "[150 rows x 6 columns]\n",
      "[2.05351329 6.61503452 5.74047572 2.55937585 4.15851927 5.20461833\n",
      " 0.79307128 1.20894933 5.68688998 2.48219921 1.53046377 1.45328712\n",
      " 5.08025988 5.62690031 5.68688998 1.45328712 3.60547491 5.02667414\n",
      " 4.18211017 3.97417115 3.68265155 1.92275091 7.29243734 4.18211017\n",
      " 2.31503806 4.15211534 7.5539621  3.86699967 1.42329229 4.55080642]\n"
     ]
    }
   ],
   "source": [
    "\n",
    "import pandas as pd\n",
    "iris = pd.read_csv(\"IRIS.csv\")\n",
    "print(iris)\n",
    "import numpy as np\n",
    "\n",
    "x = iris[['SepalLengthCm', 'SepalWidthCm']]\n",
    "y = iris['PetalLengthCm'].values  # Ensure y is a numpy array\n",
    "\n",
    "from sklearn.model_selection import train_test_split\n",
    "x_train, x_test, y_train, y_test = train_test_split(x, y, test_size=0.2)\n",
    "\n",
    "from sklearn.linear_model import LinearRegression\n",
    "LR = LinearRegression()\n",
    "training = LR.fit(x_train, y_train)\n",
    "y_pred = LR.predict(x_test)\n",
    "print(y_pred)"
   ]
  },
  {
   "cell_type": "code",
   "execution_count": 2,
   "id": "59c42945",
   "metadata": {},
   "outputs": [
    {
     "name": "stdout",
     "output_type": "stream",
     "text": [
      "[5.33558339 5.70293909 4.04983847 2.5804157  2.39673785 3.13144924\n",
      " 3.31512708 4.23351631 4.78454985 3.49880493 5.70293909 4.60087201\n",
      " 4.04983847 2.76409354 4.9682277  4.23351631 3.49880493 3.13144924\n",
      " 4.04983847 2.02938216 3.31512708 7.17236186 2.02938216 5.15190555\n",
      " 4.78454985 5.88661693 5.33558339 3.49880493 4.60087201 1.47834862] \n",
      "\n",
      "Mean Absoute Error:  0.7884151495595206\n",
      "Mean Squeared Error:  0.8657336425751867\n",
      "RMSE:  0.9304480869856129\n"
     ]
    }
   ],
   "source": [
    "import numpy as np\n",
    "\n",
    "x = iris[['SepalLengthCm']]\n",
    "y = iris.PetalLengthCm\n",
    "\n",
    "from sklearn.model_selection import train_test_split\n",
    "x_train, x_test, y_train, y_test = train_test_split(x,y,test_size=0.2)\n",
    "\n",
    "from sklearn.linear_model import LinearRegression\n",
    "LR = LinearRegression()\n",
    "\n",
    "training = LR.fit(x_train, y_train)\n",
    "y_pred = LR.predict(x_test)\n",
    "print(y_pred, \"\\n\")\n",
    "\n",
    "#pip install numpy\n",
    "import numpy as np\n",
    "from sklearn import metrics\n",
    "\n",
    "MAE = metrics.mean_absolute_error(y_test, y_pred)\n",
    "print(\"Mean Absoute Error: \", MAE)\n",
    "MSE = metrics.mean_squared_error(y_test, y_pred)\n",
    "print(\"Mean Squeared Error: \", MSE)\n",
    "RMSE = np.sqrt(metrics.mean_squared_error(y_test, y_pred))\n",
    "print(\"RMSE: \", RMSE)"
   ]
  },
  {
   "cell_type": "code",
   "execution_count": null,
   "id": "45caf448",
   "metadata": {},
   "outputs": [],
   "source": []
  }
 ],
 "metadata": {
  "kernelspec": {
   "display_name": "cleanenv",
   "language": "python",
   "name": "python3"
  },
  "language_info": {
   "codemirror_mode": {
    "name": "ipython",
    "version": 3
   },
   "file_extension": ".py",
   "mimetype": "text/x-python",
   "name": "python",
   "nbconvert_exporter": "python",
   "pygments_lexer": "ipython3",
   "version": "3.10.18"
  }
 },
 "nbformat": 4,
 "nbformat_minor": 5
}
